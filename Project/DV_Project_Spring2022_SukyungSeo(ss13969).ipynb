{
  "cells": [
    {
      "cell_type": "markdown",
      "source": [
        "Import necessary libraries"
      ],
      "metadata": {
        "id": "ACRX-madk91U"
      },
      "id": "ACRX-madk91U"
    },
    {
      "cell_type": "code",
      "execution_count": 1,
      "metadata": {
        "id": "0cd9eb85"
      },
      "outputs": [],
      "source": [
        "import pandas as pd\n",
        "import numpy as np\n",
        "import random\n",
        "from sklearn.metrics import precision_score,recall_score\n",
        "from sklearn.metrics import f1_score\n",
        "from sklearn.neighbors import KNeighborsClassifier\n",
        "from sklearn.tree import DecisionTreeClassifier\n",
        "from sklearn.ensemble import RandomForestClassifier\n",
        "from sklearn.model_selection import train_test_split, cross_val_score\n",
        "from sklearn.metrics import accuracy_score\n",
        "from sklearn.linear_model import LogisticRegression, SGDClassifier\n",
        "from sklearn.naive_bayes import GaussianNB\n",
        "from sklearn import svm\n",
        "from sklearn.utils import resample\n",
        "from sklearn.model_selection import train_test_split, GridSearchCV, RandomizedSearchCV\n",
        "from keras.models import Sequential\n",
        "from keras.layers import Dense\n",
        "from xgboost import XGBClassifier\n",
        "from sklearn.neighbors import KNeighborsClassifier"
      ],
      "id": "0cd9eb85"
    },
    {
      "cell_type": "code",
      "execution_count": 2,
      "metadata": {
        "id": "tqBx4uc_M3Xp"
      },
      "outputs": [],
      "source": [
        "def evaluate_model(classifier_name):\n",
        "    print(\"Accuracy Score: \", accuracy_score(y_test, classifier_name.predict(X_test)))\n",
        "    print(\"Precision Score: \", precision_score(y_test, classifier_name.predict(X_test)))\n",
        "    print(\"Recall Score: \", recall_score(y_test, classifier_name.predict(X_test)))\n",
        "    print(\"F1 Score: \", f1_score(y_test, classifier_name.predict(X_test)))"
      ],
      "id": "tqBx4uc_M3Xp"
    },
    {
      "cell_type": "markdown",
      "source": [
        "Upload datasets and Pre-process dataset"
      ],
      "metadata": {
        "id": "1Ipv_Ik9lIvY"
      },
      "id": "1Ipv_Ik9lIvY"
    },
    {
      "cell_type": "markdown",
      "source": [
        "* This takes a lot of time because of datasets' size. To implement this program please go to \"Start Here\" and upload dataset and check!"
      ],
      "metadata": {
        "id": "ZuBRvagAnt_k"
      },
      "id": "ZuBRvagAnt_k"
    },
    {
      "cell_type": "code",
      "execution_count": null,
      "metadata": {
        "id": "95698294"
      },
      "outputs": [],
      "source": [
        "#Read data and change column names (originally written in Korean)\n",
        "hp_data1 = pd.read_csv(\"HP_T20_2020_1.CSV\",encoding= 'unicode_escape')\n",
        "hp_data1.columns=['Year','Patient_ID','Diagnosis_ID','Sex_ID','Age_Code','City_Code','Start_Date'\n",
        "                 ,'Format_Code','Diagnosis_ID','Main_Disease_Code','Sub_Disease_Code','DayCare_Code'\n",
        "                 ,'Hospitalization_Code','Trial_Decision_Addition_Rate','Total_Cost_of_MedicalCare_Benefit'\n",
        "                 ,'Trial_Decision_Self_Pay','Trial_Decision_Insurer_Contribution','Total_Number_of_Days_of_Prescription',\n",
        "                 'DB_date']\n",
        "\n",
        "hp_data2 = pd.read_csv(\"HP_T20_2020_2.CSV\",encoding= 'unicode_escape')\n",
        "hp_data2.columns=['Year','Patient_ID','Diagnosis_ID','Sex_ID','Age_Code','City_Code','Start_Date'\n",
        "                 ,'Format_Code','Diagnosis_ID','Main_Disease_Code','Sub_Disease_Code','DayCare_Code'\n",
        "                 ,'Hospitalization_Code','Trial_Decision_Addition_Rate','Total_Cost_of_MedicalCare_Benefit'\n",
        "                 ,'Trial_Decision_Self_Pay','Trial_Decision_Insurer_Contribution','Total_Number_of_Days_of_Prescription',\n",
        "                 'DB_date']\n",
        "\n",
        "hp_data3 = pd.read_csv(\"HP_T20_2020_3.CSV\",encoding= 'unicode_escape')\n",
        "hp_data3.columns=['Year','Patient_ID','Diagnosis_ID','Sex_ID','Age_Code','City_Code','Start_Date'\n",
        "                 ,'Format_Code','Diagnosis_ID','Main_Disease_Code','Sub_Disease_Code','DayCare_Code'\n",
        "                 ,'Hospitalization_Code','Trial_Decision_Addition_Rate','Total_Cost_of_MedicalCare_Benefit'\n",
        "                 ,'Trial_Decision_Self_Pay','Trial_Decision_Insurer_Contribution','Total_Number_of_Days_of_Prescription',\n",
        "                 'DB_date']\n",
        "\n",
        "examination_data = pd.read_csv(\"HP_Health_Examination.CSV\",encoding= 'unicode_escape')\n",
        "examination_data.columns=['Year','Patient_ID','City_Code','Sex_ID', 'Age_Code',\n",
        "                         'Height_Per5Cm','Weight_Per5Cm','Waist','Sight_Left','Sight_Right',\n",
        "                         'Hearing_Left','Hearing_Right','Systolic_Blood_Pressure','Diastolic_Blood_Pressure',\n",
        "                         'Fasting_Blood_Sugar','Total_Cholesterol','Triglycerides','HDL_Cholesterol','LDL_Cholesterol',\n",
        "                         'Hemoglobin','Urine_Protein','Serum_Creatinine','AST','ALT','Gamma_GTP','Smoking_Status',\n",
        "                         'Drinking_Status','Check_for_Oral_Examination','Presence_Dental_Caries','Tartar','DB_Release_date']"
      ],
      "id": "95698294"
    },
    {
      "cell_type": "code",
      "execution_count": null,
      "metadata": {
        "id": "44ee6ded"
      },
      "outputs": [],
      "source": [
        "hp_total = pd.concat([hp_data1, hp_data2, hp_data3])\n",
        "all_combined = pd.merge(hp_total, examination_data, on=\"Patient_ID\")"
      ],
      "id": "44ee6ded"
    },
    {
      "cell_type": "code",
      "execution_count": null,
      "metadata": {
        "id": "bf9f5c43"
      },
      "outputs": [],
      "source": [
        "all_data = all_combined[['Main_Disease_Code','Patient_ID','Sex_ID_x', 'Age_Code_x',\n",
        "                         'Height_Per5Cm','Weight_Per5Cm','Waist','Sight_Left','Sight_Right',\n",
        "                         'Hearing_Left','Hearing_Right','Systolic_Blood_Pressure','Diastolic_Blood_Pressure',\n",
        "                         'Fasting_Blood_Sugar','Total_Cholesterol','Triglycerides','HDL_Cholesterol','LDL_Cholesterol',\n",
        "                         'Hemoglobin','Urine_Protein','Serum_Creatinine','AST','ALT','Gamma_GTP','Smoking_Status',\n",
        "                         'Drinking_Status']]"
      ],
      "id": "bf9f5c43"
    },
    {
      "cell_type": "code",
      "execution_count": null,
      "metadata": {
        "colab": {
          "base_uri": "https://localhost:8080/",
          "height": 505
        },
        "id": "FHdVvf4Bzb_7",
        "outputId": "2d3a4003-229d-48df-b465-82c958683812"
      },
      "outputs": [
        {
          "data": {
            "text/html": [
              "\n",
              "  <div id=\"df-769e4b66-d74f-40a2-a52f-0db10f95cedb\">\n",
              "    <div class=\"colab-df-container\">\n",
              "      <div>\n",
              "<style scoped>\n",
              "    .dataframe tbody tr th:only-of-type {\n",
              "        vertical-align: middle;\n",
              "    }\n",
              "\n",
              "    .dataframe tbody tr th {\n",
              "        vertical-align: top;\n",
              "    }\n",
              "\n",
              "    .dataframe thead th {\n",
              "        text-align: right;\n",
              "    }\n",
              "</style>\n",
              "<table border=\"1\" class=\"dataframe\">\n",
              "  <thead>\n",
              "    <tr style=\"text-align: right;\">\n",
              "      <th></th>\n",
              "      <th>Unnamed: 0</th>\n",
              "      <th>Main_Disease_Code</th>\n",
              "      <th>Patient_ID</th>\n",
              "      <th>Sex_ID_x</th>\n",
              "      <th>Age_Code_x</th>\n",
              "      <th>Height_Per5Cm</th>\n",
              "      <th>Weight_Per5Cm</th>\n",
              "      <th>Waist</th>\n",
              "      <th>Sight_Left</th>\n",
              "      <th>Sight_Right</th>\n",
              "      <th>...</th>\n",
              "      <th>HDL_Cholesterol</th>\n",
              "      <th>LDL_Cholesterol</th>\n",
              "      <th>Hemoglobin</th>\n",
              "      <th>Urine_Protein</th>\n",
              "      <th>Serum_Creatinine</th>\n",
              "      <th>AST</th>\n",
              "      <th>ALT</th>\n",
              "      <th>Gamma_GTP</th>\n",
              "      <th>Smoking_Status</th>\n",
              "      <th>Drinking_Status</th>\n",
              "    </tr>\n",
              "  </thead>\n",
              "  <tbody>\n",
              "    <tr>\n",
              "      <th>0</th>\n",
              "      <td>35</td>\n",
              "      <td>I109</td>\n",
              "      <td>2406</td>\n",
              "      <td>2</td>\n",
              "      <td>17</td>\n",
              "      <td>145</td>\n",
              "      <td>55</td>\n",
              "      <td>88.0</td>\n",
              "      <td>0.5</td>\n",
              "      <td>0.4</td>\n",
              "      <td>...</td>\n",
              "      <td>32.0</td>\n",
              "      <td>100.0</td>\n",
              "      <td>12.7</td>\n",
              "      <td>1.0</td>\n",
              "      <td>0.6</td>\n",
              "      <td>16.0</td>\n",
              "      <td>26.0</td>\n",
              "      <td>21.0</td>\n",
              "      <td>1.0</td>\n",
              "      <td>0.0</td>\n",
              "    </tr>\n",
              "    <tr>\n",
              "      <th>1</th>\n",
              "      <td>36</td>\n",
              "      <td>K294</td>\n",
              "      <td>2406</td>\n",
              "      <td>2</td>\n",
              "      <td>17</td>\n",
              "      <td>145</td>\n",
              "      <td>55</td>\n",
              "      <td>88.0</td>\n",
              "      <td>0.5</td>\n",
              "      <td>0.4</td>\n",
              "      <td>...</td>\n",
              "      <td>32.0</td>\n",
              "      <td>100.0</td>\n",
              "      <td>12.7</td>\n",
              "      <td>1.0</td>\n",
              "      <td>0.6</td>\n",
              "      <td>16.0</td>\n",
              "      <td>26.0</td>\n",
              "      <td>21.0</td>\n",
              "      <td>1.0</td>\n",
              "      <td>0.0</td>\n",
              "    </tr>\n",
              "    <tr>\n",
              "      <th>2</th>\n",
              "      <td>48</td>\n",
              "      <td>M170</td>\n",
              "      <td>2406</td>\n",
              "      <td>2</td>\n",
              "      <td>17</td>\n",
              "      <td>145</td>\n",
              "      <td>55</td>\n",
              "      <td>88.0</td>\n",
              "      <td>0.5</td>\n",
              "      <td>0.4</td>\n",
              "      <td>...</td>\n",
              "      <td>32.0</td>\n",
              "      <td>100.0</td>\n",
              "      <td>12.7</td>\n",
              "      <td>1.0</td>\n",
              "      <td>0.6</td>\n",
              "      <td>16.0</td>\n",
              "      <td>26.0</td>\n",
              "      <td>21.0</td>\n",
              "      <td>1.0</td>\n",
              "      <td>0.0</td>\n",
              "    </tr>\n",
              "    <tr>\n",
              "      <th>3</th>\n",
              "      <td>49</td>\n",
              "      <td>M5448</td>\n",
              "      <td>2406</td>\n",
              "      <td>2</td>\n",
              "      <td>17</td>\n",
              "      <td>145</td>\n",
              "      <td>55</td>\n",
              "      <td>88.0</td>\n",
              "      <td>0.5</td>\n",
              "      <td>0.4</td>\n",
              "      <td>...</td>\n",
              "      <td>32.0</td>\n",
              "      <td>100.0</td>\n",
              "      <td>12.7</td>\n",
              "      <td>1.0</td>\n",
              "      <td>0.6</td>\n",
              "      <td>16.0</td>\n",
              "      <td>26.0</td>\n",
              "      <td>21.0</td>\n",
              "      <td>1.0</td>\n",
              "      <td>0.0</td>\n",
              "    </tr>\n",
              "    <tr>\n",
              "      <th>4</th>\n",
              "      <td>52</td>\n",
              "      <td>H521</td>\n",
              "      <td>2406</td>\n",
              "      <td>2</td>\n",
              "      <td>17</td>\n",
              "      <td>145</td>\n",
              "      <td>55</td>\n",
              "      <td>88.0</td>\n",
              "      <td>0.5</td>\n",
              "      <td>0.4</td>\n",
              "      <td>...</td>\n",
              "      <td>32.0</td>\n",
              "      <td>100.0</td>\n",
              "      <td>12.7</td>\n",
              "      <td>1.0</td>\n",
              "      <td>0.6</td>\n",
              "      <td>16.0</td>\n",
              "      <td>26.0</td>\n",
              "      <td>21.0</td>\n",
              "      <td>1.0</td>\n",
              "      <td>0.0</td>\n",
              "    </tr>\n",
              "    <tr>\n",
              "      <th>...</th>\n",
              "      <td>...</td>\n",
              "      <td>...</td>\n",
              "      <td>...</td>\n",
              "      <td>...</td>\n",
              "      <td>...</td>\n",
              "      <td>...</td>\n",
              "      <td>...</td>\n",
              "      <td>...</td>\n",
              "      <td>...</td>\n",
              "      <td>...</td>\n",
              "      <td>...</td>\n",
              "      <td>...</td>\n",
              "      <td>...</td>\n",
              "      <td>...</td>\n",
              "      <td>...</td>\n",
              "      <td>...</td>\n",
              "      <td>...</td>\n",
              "      <td>...</td>\n",
              "      <td>...</td>\n",
              "      <td>...</td>\n",
              "      <td>...</td>\n",
              "    </tr>\n",
              "    <tr>\n",
              "      <th>1735177</th>\n",
              "      <td>11727237</td>\n",
              "      <td>S5260</td>\n",
              "      <td>905675</td>\n",
              "      <td>2</td>\n",
              "      <td>3</td>\n",
              "      <td>170</td>\n",
              "      <td>65</td>\n",
              "      <td>84.0</td>\n",
              "      <td>1.0</td>\n",
              "      <td>1.0</td>\n",
              "      <td>...</td>\n",
              "      <td>48.0</td>\n",
              "      <td>108.0</td>\n",
              "      <td>15.2</td>\n",
              "      <td>1.0</td>\n",
              "      <td>1.1</td>\n",
              "      <td>41.0</td>\n",
              "      <td>32.0</td>\n",
              "      <td>21.0</td>\n",
              "      <td>3.0</td>\n",
              "      <td>0.0</td>\n",
              "    </tr>\n",
              "    <tr>\n",
              "      <th>1735178</th>\n",
              "      <td>11727240</td>\n",
              "      <td>S9349</td>\n",
              "      <td>938629</td>\n",
              "      <td>2</td>\n",
              "      <td>3</td>\n",
              "      <td>175</td>\n",
              "      <td>70</td>\n",
              "      <td>86.0</td>\n",
              "      <td>1.0</td>\n",
              "      <td>1.2</td>\n",
              "      <td>...</td>\n",
              "      <td>49.0</td>\n",
              "      <td>130.0</td>\n",
              "      <td>16.1</td>\n",
              "      <td>1.0</td>\n",
              "      <td>0.7</td>\n",
              "      <td>20.0</td>\n",
              "      <td>26.0</td>\n",
              "      <td>16.0</td>\n",
              "      <td>1.0</td>\n",
              "      <td>0.0</td>\n",
              "    </tr>\n",
              "    <tr>\n",
              "      <th>1735179</th>\n",
              "      <td>11727241</td>\n",
              "      <td>S903</td>\n",
              "      <td>941590</td>\n",
              "      <td>1</td>\n",
              "      <td>3</td>\n",
              "      <td>165</td>\n",
              "      <td>70</td>\n",
              "      <td>86.2</td>\n",
              "      <td>0.9</td>\n",
              "      <td>1.0</td>\n",
              "      <td>...</td>\n",
              "      <td>36.0</td>\n",
              "      <td>131.0</td>\n",
              "      <td>15.2</td>\n",
              "      <td>1.0</td>\n",
              "      <td>0.9</td>\n",
              "      <td>40.0</td>\n",
              "      <td>63.0</td>\n",
              "      <td>69.0</td>\n",
              "      <td>2.0</td>\n",
              "      <td>1.0</td>\n",
              "    </tr>\n",
              "    <tr>\n",
              "      <th>1735180</th>\n",
              "      <td>11727243</td>\n",
              "      <td>A099</td>\n",
              "      <td>948330</td>\n",
              "      <td>1</td>\n",
              "      <td>3</td>\n",
              "      <td>160</td>\n",
              "      <td>50</td>\n",
              "      <td>70.8</td>\n",
              "      <td>0.6</td>\n",
              "      <td>0.4</td>\n",
              "      <td>...</td>\n",
              "      <td>61.0</td>\n",
              "      <td>178.0</td>\n",
              "      <td>13.0</td>\n",
              "      <td>1.0</td>\n",
              "      <td>1.0</td>\n",
              "      <td>44.0</td>\n",
              "      <td>42.0</td>\n",
              "      <td>21.0</td>\n",
              "      <td>3.0</td>\n",
              "      <td>1.0</td>\n",
              "    </tr>\n",
              "    <tr>\n",
              "      <th>1735181</th>\n",
              "      <td>11727245</td>\n",
              "      <td>S0600</td>\n",
              "      <td>966767</td>\n",
              "      <td>1</td>\n",
              "      <td>3</td>\n",
              "      <td>155</td>\n",
              "      <td>55</td>\n",
              "      <td>84.5</td>\n",
              "      <td>0.9</td>\n",
              "      <td>1.0</td>\n",
              "      <td>...</td>\n",
              "      <td>59.0</td>\n",
              "      <td>135.0</td>\n",
              "      <td>12.5</td>\n",
              "      <td>1.0</td>\n",
              "      <td>0.7</td>\n",
              "      <td>20.0</td>\n",
              "      <td>14.0</td>\n",
              "      <td>12.0</td>\n",
              "      <td>1.0</td>\n",
              "      <td>0.0</td>\n",
              "    </tr>\n",
              "  </tbody>\n",
              "</table>\n",
              "<p>1735182 rows × 27 columns</p>\n",
              "</div>\n",
              "      <button class=\"colab-df-convert\" onclick=\"convertToInteractive('df-769e4b66-d74f-40a2-a52f-0db10f95cedb')\"\n",
              "              title=\"Convert this dataframe to an interactive table.\"\n",
              "              style=\"display:none;\">\n",
              "        \n",
              "  <svg xmlns=\"http://www.w3.org/2000/svg\" height=\"24px\"viewBox=\"0 0 24 24\"\n",
              "       width=\"24px\">\n",
              "    <path d=\"M0 0h24v24H0V0z\" fill=\"none\"/>\n",
              "    <path d=\"M18.56 5.44l.94 2.06.94-2.06 2.06-.94-2.06-.94-.94-2.06-.94 2.06-2.06.94zm-11 1L8.5 8.5l.94-2.06 2.06-.94-2.06-.94L8.5 2.5l-.94 2.06-2.06.94zm10 10l.94 2.06.94-2.06 2.06-.94-2.06-.94-.94-2.06-.94 2.06-2.06.94z\"/><path d=\"M17.41 7.96l-1.37-1.37c-.4-.4-.92-.59-1.43-.59-.52 0-1.04.2-1.43.59L10.3 9.45l-7.72 7.72c-.78.78-.78 2.05 0 2.83L4 21.41c.39.39.9.59 1.41.59.51 0 1.02-.2 1.41-.59l7.78-7.78 2.81-2.81c.8-.78.8-2.07 0-2.86zM5.41 20L4 18.59l7.72-7.72 1.47 1.35L5.41 20z\"/>\n",
              "  </svg>\n",
              "      </button>\n",
              "      \n",
              "  <style>\n",
              "    .colab-df-container {\n",
              "      display:flex;\n",
              "      flex-wrap:wrap;\n",
              "      gap: 12px;\n",
              "    }\n",
              "\n",
              "    .colab-df-convert {\n",
              "      background-color: #E8F0FE;\n",
              "      border: none;\n",
              "      border-radius: 50%;\n",
              "      cursor: pointer;\n",
              "      display: none;\n",
              "      fill: #1967D2;\n",
              "      height: 32px;\n",
              "      padding: 0 0 0 0;\n",
              "      width: 32px;\n",
              "    }\n",
              "\n",
              "    .colab-df-convert:hover {\n",
              "      background-color: #E2EBFA;\n",
              "      box-shadow: 0px 1px 2px rgba(60, 64, 67, 0.3), 0px 1px 3px 1px rgba(60, 64, 67, 0.15);\n",
              "      fill: #174EA6;\n",
              "    }\n",
              "\n",
              "    [theme=dark] .colab-df-convert {\n",
              "      background-color: #3B4455;\n",
              "      fill: #D2E3FC;\n",
              "    }\n",
              "\n",
              "    [theme=dark] .colab-df-convert:hover {\n",
              "      background-color: #434B5C;\n",
              "      box-shadow: 0px 1px 3px 1px rgba(0, 0, 0, 0.15);\n",
              "      filter: drop-shadow(0px 1px 2px rgba(0, 0, 0, 0.3));\n",
              "      fill: #FFFFFF;\n",
              "    }\n",
              "  </style>\n",
              "\n",
              "      <script>\n",
              "        const buttonEl =\n",
              "          document.querySelector('#df-769e4b66-d74f-40a2-a52f-0db10f95cedb button.colab-df-convert');\n",
              "        buttonEl.style.display =\n",
              "          google.colab.kernel.accessAllowed ? 'block' : 'none';\n",
              "\n",
              "        async function convertToInteractive(key) {\n",
              "          const element = document.querySelector('#df-769e4b66-d74f-40a2-a52f-0db10f95cedb');\n",
              "          const dataTable =\n",
              "            await google.colab.kernel.invokeFunction('convertToInteractive',\n",
              "                                                     [key], {});\n",
              "          if (!dataTable) return;\n",
              "\n",
              "          const docLinkHtml = 'Like what you see? Visit the ' +\n",
              "            '<a target=\"_blank\" href=https://colab.research.google.com/notebooks/data_table.ipynb>data table notebook</a>'\n",
              "            + ' to learn more about interactive tables.';\n",
              "          element.innerHTML = '';\n",
              "          dataTable['output_type'] = 'display_data';\n",
              "          await google.colab.output.renderOutput(dataTable, element);\n",
              "          const docLink = document.createElement('div');\n",
              "          docLink.innerHTML = docLinkHtml;\n",
              "          element.appendChild(docLink);\n",
              "        }\n",
              "      </script>\n",
              "    </div>\n",
              "  </div>\n",
              "  "
            ],
            "text/plain": [
              "         Unnamed: 0 Main_Disease_Code  Patient_ID  Sex_ID_x  Age_Code_x  \\\n",
              "0                35              I109        2406         2          17   \n",
              "1                36              K294        2406         2          17   \n",
              "2                48              M170        2406         2          17   \n",
              "3                49             M5448        2406         2          17   \n",
              "4                52              H521        2406         2          17   \n",
              "...             ...               ...         ...       ...         ...   \n",
              "1735177    11727237             S5260      905675         2           3   \n",
              "1735178    11727240             S9349      938629         2           3   \n",
              "1735179    11727241              S903      941590         1           3   \n",
              "1735180    11727243              A099      948330         1           3   \n",
              "1735181    11727245             S0600      966767         1           3   \n",
              "\n",
              "         Height_Per5Cm  Weight_Per5Cm  Waist  Sight_Left  Sight_Right  ...  \\\n",
              "0                  145             55   88.0         0.5          0.4  ...   \n",
              "1                  145             55   88.0         0.5          0.4  ...   \n",
              "2                  145             55   88.0         0.5          0.4  ...   \n",
              "3                  145             55   88.0         0.5          0.4  ...   \n",
              "4                  145             55   88.0         0.5          0.4  ...   \n",
              "...                ...            ...    ...         ...          ...  ...   \n",
              "1735177            170             65   84.0         1.0          1.0  ...   \n",
              "1735178            175             70   86.0         1.0          1.2  ...   \n",
              "1735179            165             70   86.2         0.9          1.0  ...   \n",
              "1735180            160             50   70.8         0.6          0.4  ...   \n",
              "1735181            155             55   84.5         0.9          1.0  ...   \n",
              "\n",
              "         HDL_Cholesterol  LDL_Cholesterol  Hemoglobin  Urine_Protein  \\\n",
              "0                   32.0            100.0        12.7            1.0   \n",
              "1                   32.0            100.0        12.7            1.0   \n",
              "2                   32.0            100.0        12.7            1.0   \n",
              "3                   32.0            100.0        12.7            1.0   \n",
              "4                   32.0            100.0        12.7            1.0   \n",
              "...                  ...              ...         ...            ...   \n",
              "1735177             48.0            108.0        15.2            1.0   \n",
              "1735178             49.0            130.0        16.1            1.0   \n",
              "1735179             36.0            131.0        15.2            1.0   \n",
              "1735180             61.0            178.0        13.0            1.0   \n",
              "1735181             59.0            135.0        12.5            1.0   \n",
              "\n",
              "         Serum_Creatinine   AST   ALT  Gamma_GTP  Smoking_Status  \\\n",
              "0                     0.6  16.0  26.0       21.0             1.0   \n",
              "1                     0.6  16.0  26.0       21.0             1.0   \n",
              "2                     0.6  16.0  26.0       21.0             1.0   \n",
              "3                     0.6  16.0  26.0       21.0             1.0   \n",
              "4                     0.6  16.0  26.0       21.0             1.0   \n",
              "...                   ...   ...   ...        ...             ...   \n",
              "1735177               1.1  41.0  32.0       21.0             3.0   \n",
              "1735178               0.7  20.0  26.0       16.0             1.0   \n",
              "1735179               0.9  40.0  63.0       69.0             2.0   \n",
              "1735180               1.0  44.0  42.0       21.0             3.0   \n",
              "1735181               0.7  20.0  14.0       12.0             1.0   \n",
              "\n",
              "         Drinking_Status  \n",
              "0                    0.0  \n",
              "1                    0.0  \n",
              "2                    0.0  \n",
              "3                    0.0  \n",
              "4                    0.0  \n",
              "...                  ...  \n",
              "1735177              0.0  \n",
              "1735178              0.0  \n",
              "1735179              1.0  \n",
              "1735180              1.0  \n",
              "1735181              0.0  \n",
              "\n",
              "[1735182 rows x 27 columns]"
            ]
          },
          "execution_count": 6,
          "metadata": {},
          "output_type": "execute_result"
        }
      ],
      "source": [
        "all_data.drop_duplicates()\n",
        "all_data.dropna()"
      ],
      "id": "FHdVvf4Bzb_7"
    },
    {
      "cell_type": "markdown",
      "source": [
        "* Start Here !!!!!!"
      ],
      "metadata": {
        "id": "OvnuU4rioHCt"
      },
      "id": "OvnuU4rioHCt"
    },
    {
      "cell_type": "code",
      "execution_count": 3,
      "metadata": {
        "id": "mezx3fkvr2jl"
      },
      "outputs": [],
      "source": [
        "all_data = pd.read_csv(\"all_data.csv\")"
      ],
      "id": "mezx3fkvr2jl"
    },
    {
      "cell_type": "markdown",
      "source": [
        "Additional pre-processing part"
      ],
      "metadata": {
        "id": "PlxTL0_0DkTY"
      },
      "id": "PlxTL0_0DkTY"
    },
    {
      "cell_type": "code",
      "source": [
        "high_blood_pressure = all_data[all_data['Main_Disease_Code']==\"I109\"]\n",
        "list1 = high_blood_pressure['Patient_ID'].drop_duplicates()\n",
        "not_high_blood =  all_data[all_data['Main_Disease_Code']!=\"I109\"]\n",
        "not_high_blood = not_high_blood[~not_high_blood['Patient_ID'].isin(list1)]\n",
        "not_high_blood = not_high_blood.drop(['Unnamed: 0','Main_Disease_Code'], axis=1)\n",
        "high_blood_pressure= high_blood_pressure.drop(['Unnamed: 0','Main_Disease_Code'], axis=1)"
      ],
      "metadata": {
        "id": "a2J-Z8cTDju-"
      },
      "id": "a2J-Z8cTDju-",
      "execution_count": 4,
      "outputs": []
    },
    {
      "cell_type": "markdown",
      "source": [
        "Assgin Class labels (Positive, Negative)"
      ],
      "metadata": {
        "id": "jA76C0p9EEAk"
      },
      "id": "jA76C0p9EEAk"
    },
    {
      "cell_type": "code",
      "source": [
        "not_high_blood['Class']=0\n",
        "high_blood_pressure['Class'] = 1 "
      ],
      "metadata": {
        "id": "APvE1OsgD3ny"
      },
      "id": "APvE1OsgD3ny",
      "execution_count": 5,
      "outputs": []
    },
    {
      "cell_type": "code",
      "source": [
        "not_high_blood = not_high_blood.drop_duplicates()\n",
        "not_high_blood = not_high_blood.sample(len(high_blood_pressure), random_state =42)\n",
        "total_data = pd.concat([not_high_blood,high_blood_pressure ])"
      ],
      "metadata": {
        "id": "H8g6E0j0D9FT"
      },
      "id": "H8g6E0j0D9FT",
      "execution_count": 6,
      "outputs": []
    },
    {
      "cell_type": "markdown",
      "source": [
        "Train, Test Split"
      ],
      "metadata": {
        "id": "XNC_3jtMmBbL"
      },
      "id": "XNC_3jtMmBbL"
    },
    {
      "cell_type": "code",
      "execution_count": 7,
      "metadata": {
        "id": "XcISe6ylFYUW"
      },
      "outputs": [],
      "source": [
        "total_data = total_data.loc[:, ~total_data.columns.isin(['Patient_ID','Systolic_Blood_Pressure','Diastolic_Blood_Pressure','Fasting_Blood_Sugar']) ]\n",
        "X, y = total_data.drop('Class', axis=1), total_data['Class']\n",
        "X_train, X_test, y_train, y_test = train_test_split(X,y,test_size =0.3, random_state=42, stratify=y)"
      ],
      "id": "XcISe6ylFYUW"
    },
    {
      "cell_type": "markdown",
      "source": [
        "ML models without hyperparameter tunings"
      ],
      "metadata": {
        "id": "you8cACImE34"
      },
      "id": "you8cACImE34"
    },
    {
      "cell_type": "code",
      "source": [
        "sgd_model = SGDClassifier()\n",
        "sgd_model.fit(X_train, y_train)\n",
        "evaluate_model(sgd_model)"
      ],
      "metadata": {
        "colab": {
          "base_uri": "https://localhost:8080/"
        },
        "id": "2rgExfA8daxP",
        "outputId": "88d2c962-3572-4fd3-fb83-d3e0254bb9d7"
      },
      "id": "2rgExfA8daxP",
      "execution_count": 22,
      "outputs": [
        {
          "output_type": "stream",
          "name": "stdout",
          "text": [
            "Accuracy Score:  0.555939746662102\n",
            "Precision Score:  0.7911617961511048\n",
            "Recall Score:  0.15200273878808626\n",
            "F1 Score:  0.2550111998162082\n"
          ]
        }
      ]
    },
    {
      "cell_type": "code",
      "source": [
        "knn_model = KNeighborsClassifier()\n",
        "knn_model.fit(X_train, y_train)\n",
        "evaluate_model(knn_model)"
      ],
      "metadata": {
        "id": "3KaWm1IgzdeQ",
        "colab": {
          "base_uri": "https://localhost:8080/"
        },
        "outputId": "1ffc389c-83fc-467e-d5f3-51ed0ab19717"
      },
      "id": "3KaWm1IgzdeQ",
      "execution_count": 18,
      "outputs": [
        {
          "output_type": "stream",
          "name": "stdout",
          "text": [
            "Accuracy Score:  0.6000684697021568\n",
            "Precision Score:  0.5931663160578823\n",
            "Recall Score:  0.6371105785689832\n",
            "F1 Score:  0.6143536247193979\n"
          ]
        }
      ]
    },
    {
      "cell_type": "code",
      "execution_count": 19,
      "metadata": {
        "colab": {
          "base_uri": "https://localhost:8080/"
        },
        "id": "cfcbc247",
        "outputId": "ef06e9ee-8372-4e08-ebd7-15c7a3dd81db"
      },
      "outputs": [
        {
          "output_type": "stream",
          "name": "stdout",
          "text": [
            "Accuracy Score:  0.6652173913043479\n",
            "Precision Score:  0.6690960056061668\n",
            "Recall Score:  0.6537487161930846\n",
            "F1 Score:  0.6613333333333333\n"
          ]
        }
      ],
      "source": [
        "dctree_model = DecisionTreeClassifier()\n",
        "dctree_model.fit(X_train, y_train)\n",
        "evaluate_model(dctree_model)"
      ],
      "id": "cfcbc247"
    },
    {
      "cell_type": "code",
      "execution_count": 20,
      "metadata": {
        "colab": {
          "base_uri": "https://localhost:8080/"
        },
        "id": "qLJ6V_i1RrQr",
        "outputId": "ae12b6a5-d05f-4f6d-e2a4-1aea9e084192"
      },
      "outputs": [
        {
          "output_type": "stream",
          "name": "stdout",
          "text": [
            "Accuracy Score:  0.7515234508729887\n",
            "Precision Score:  0.7109873068749641\n",
            "Recall Score:  0.8475864429989729\n",
            "F1 Score:  0.7733008495752124\n"
          ]
        }
      ],
      "source": [
        "nb_model = GaussianNB()\n",
        "nb_model.fit(X_train, y_train)\n",
        "evaluate_model(nb_model)"
      ],
      "id": "qLJ6V_i1RrQr"
    },
    {
      "cell_type": "code",
      "execution_count": 23,
      "metadata": {
        "colab": {
          "base_uri": "https://localhost:8080/"
        },
        "id": "eqNXDNjivjeF",
        "outputId": "d3d9e3e3-788c-4ea8-9903-e6aa20bfd1e0"
      },
      "outputs": [
        {
          "output_type": "stream",
          "name": "stdout",
          "text": [
            "Accuracy Score:  0.7518657993837726\n",
            "Precision Score:  0.7324486571879937\n",
            "Recall Score:  0.793632317699418\n",
            "F1 Score:  0.7618139993427538\n"
          ]
        },
        {
          "output_type": "stream",
          "name": "stderr",
          "text": [
            "/usr/local/lib/python3.7/dist-packages/sklearn/linear_model/_logistic.py:818: ConvergenceWarning: lbfgs failed to converge (status=1):\n",
            "STOP: TOTAL NO. of ITERATIONS REACHED LIMIT.\n",
            "\n",
            "Increase the number of iterations (max_iter) or scale the data as shown in:\n",
            "    https://scikit-learn.org/stable/modules/preprocessing.html\n",
            "Please also refer to the documentation for alternative solver options:\n",
            "    https://scikit-learn.org/stable/modules/linear_model.html#logistic-regression\n",
            "  extra_warning_msg=_LOGISTIC_SOLVER_CONVERGENCE_MSG,\n"
          ]
        }
      ],
      "source": [
        "lr_model = LogisticRegression()\n",
        "lr_model.fit(X_train, y_train)\n",
        "evaluate_model(lr_model)"
      ],
      "id": "eqNXDNjivjeF"
    },
    {
      "cell_type": "code",
      "source": [
        "svm_model = svm.SVC()\n",
        "svm_model.fit(X_train, y_train)\n",
        "evaluate_model(svm_model)"
      ],
      "metadata": {
        "colab": {
          "base_uri": "https://localhost:8080/"
        },
        "id": "S8YJe2g6elHQ",
        "outputId": "2c3b2033-d5e9-4396-eee9-85c70f1123ed"
      },
      "id": "S8YJe2g6elHQ",
      "execution_count": 24,
      "outputs": [
        {
          "output_type": "stream",
          "name": "stdout",
          "text": [
            "Accuracy Score:  0.7547415268743581\n",
            "Precision Score:  0.7049523494739162\n",
            "Recall Score:  0.8762067785005135\n",
            "F1 Score:  0.7813053299957262\n"
          ]
        }
      ]
    },
    {
      "cell_type": "code",
      "execution_count": 21,
      "metadata": {
        "colab": {
          "base_uri": "https://localhost:8080/"
        },
        "id": "IHzb2P5DLg-T",
        "outputId": "9a646f83-15af-417e-cca3-976d0b97c0af"
      },
      "outputs": [
        {
          "output_type": "stream",
          "name": "stdout",
          "text": [
            "Accuracy Score:  0.7565217391304347\n",
            "Precision Score:  0.7098056784454275\n",
            "Recall Score:  0.8678534748373845\n",
            "F1 Score:  0.7809130675867169\n"
          ]
        }
      ],
      "source": [
        "rftree_model = RandomForestClassifier()\n",
        "rftree_model.fit(X_train, y_train)\n",
        "evaluate_model(rftree_model)"
      ],
      "id": "IHzb2P5DLg-T"
    },
    {
      "cell_type": "markdown",
      "source": [
        "** Demo"
      ],
      "metadata": {
        "id": "snLvi4YjnNuH"
      },
      "id": "snLvi4YjnNuH"
    },
    {
      "cell_type": "code",
      "source": [
        "xgb_model = XGBClassifier()\n",
        "xgb_model.fit(X_train, y_train)\n",
        "evaluate_model(xgb_model)"
      ],
      "metadata": {
        "colab": {
          "base_uri": "https://localhost:8080/"
        },
        "id": "zqJKXRdOXuuS",
        "outputId": "2cf849d4-0ea6-4ca0-cab2-6924d93df680"
      },
      "id": "zqJKXRdOXuuS",
      "execution_count": 10,
      "outputs": [
        {
          "output_type": "stream",
          "name": "stdout",
          "text": [
            "Accuracy Score:  0.7621362547072921\n",
            "Precision Score:  0.7111576857316199\n",
            "Recall Score:  0.8828483396097226\n",
            "F1 Score:  0.7877565982404691\n"
          ]
        }
      ]
    },
    {
      "cell_type": "code",
      "source": [
        "feature_important = xgb_model.get_booster().get_score(importance_type='weight')\n",
        "keys = list(feature_important.keys())\n",
        "values = list(feature_important.values())\n",
        "\n",
        "data = pd.DataFrame(data=values, index=keys, columns=[\"score\"]).sort_values(by = \"score\", ascending=False)\n",
        "data.nlargest(40, columns=\"score\").plot(kind='barh', figsize = (20,10)) "
      ],
      "metadata": {
        "colab": {
          "base_uri": "https://localhost:8080/",
          "height": 329
        },
        "id": "-Wk6LtJGH6ow",
        "outputId": "b376b67b-02ad-46cc-c52f-672559558223"
      },
      "id": "-Wk6LtJGH6ow",
      "execution_count": 11,
      "outputs": [
        {
          "output_type": "execute_result",
          "data": {
            "text/plain": [
              "<matplotlib.axes._subplots.AxesSubplot at 0x7f74821008d0>"
            ]
          },
          "metadata": {},
          "execution_count": 11
        },
        {
          "output_type": "display_data",
          "data": {
            "text/plain": [
              "<Figure size 1440x720 with 1 Axes>"
            ],
            "image/png": "[encoded data removed]"
          },
          "metadata": {
            "needs_background": "light"
          }
        }
      ]
    },
    {
      "cell_type": "markdown",
      "metadata": {
        "id": "wTiYiDOZMln4"
      },
      "source": [
        "ML models with hyperparameter tunings"
      ],
      "id": "wTiYiDOZMln4"
    },
    {
      "cell_type": "code",
      "execution_count": 26,
      "metadata": {
        "colab": {
          "base_uri": "https://localhost:8080/"
        },
        "id": "aJKenpbroHBb",
        "outputId": "f463dec5-a593-4024-d229-460dc665e632"
      },
      "outputs": [
        {
          "output_type": "stream",
          "name": "stdout",
          "text": [
            "Fitting 3 folds for each of 9 candidates, totalling 27 fits\n",
            "[CV 1/3] END ........C=0.1, gamma=1, kernel=rbf;, score=0.500 total time= 3.3min\n",
            "[CV 2/3] END ........C=0.1, gamma=1, kernel=rbf;, score=0.500 total time= 3.2min\n",
            "[CV 3/3] END ........C=0.1, gamma=1, kernel=rbf;, score=0.500 total time= 3.3min\n",
            "[CV 1/3] END ......C=0.1, gamma=0.1, kernel=rbf;, score=0.500 total time= 4.0min\n",
            "[CV 2/3] END ......C=0.1, gamma=0.1, kernel=rbf;, score=0.500 total time= 4.0min\n",
            "[CV 3/3] END ......C=0.1, gamma=0.1, kernel=rbf;, score=0.505 total time= 4.0min\n",
            "[CV 1/3] END .....C=0.1, gamma=0.01, kernel=rbf;, score=0.508 total time= 4.2min\n",
            "[CV 2/3] END .....C=0.1, gamma=0.01, kernel=rbf;, score=0.504 total time= 4.1min\n",
            "[CV 3/3] END .....C=0.1, gamma=0.01, kernel=rbf;, score=0.570 total time= 4.2min\n",
            "[CV 1/3] END ..........C=1, gamma=1, kernel=rbf;, score=0.500 total time= 3.4min\n",
            "[CV 2/3] END ..........C=1, gamma=1, kernel=rbf;, score=0.500 total time= 3.4min\n",
            "[CV 3/3] END ..........C=1, gamma=1, kernel=rbf;, score=0.500 total time= 3.3min\n",
            "[CV 1/3] END ........C=1, gamma=0.1, kernel=rbf;, score=0.520 total time= 4.2min\n",
            "[CV 2/3] END ........C=1, gamma=0.1, kernel=rbf;, score=0.510 total time= 4.3min\n",
            "[CV 3/3] END ........C=1, gamma=0.1, kernel=rbf;, score=0.517 total time= 4.1min\n",
            "[CV 1/3] END .......C=1, gamma=0.01, kernel=rbf;, score=0.618 total time= 9.5min\n",
            "[CV 2/3] END .......C=1, gamma=0.01, kernel=rbf;, score=0.617 total time= 9.5min\n",
            "[CV 3/3] END .......C=1, gamma=0.01, kernel=rbf;, score=0.612 total time= 9.5min\n",
            "[CV 1/3] END .........C=10, gamma=1, kernel=rbf;, score=0.500 total time= 3.2min\n",
            "[CV 2/3] END .........C=10, gamma=1, kernel=rbf;, score=0.500 total time= 3.3min\n",
            "[CV 3/3] END .........C=10, gamma=1, kernel=rbf;, score=0.500 total time= 3.1min\n",
            "[CV 1/3] END .......C=10, gamma=0.1, kernel=rbf;, score=0.525 total time= 4.0min\n",
            "[CV 2/3] END .......C=10, gamma=0.1, kernel=rbf;, score=0.514 total time= 4.2min\n",
            "[CV 3/3] END .......C=10, gamma=0.1, kernel=rbf;, score=0.522 total time= 4.0min\n",
            "[CV 1/3] END ......C=10, gamma=0.01, kernel=rbf;, score=0.609 total time=11.2min\n",
            "[CV 2/3] END ......C=10, gamma=0.01, kernel=rbf;, score=0.607 total time=10.7min\n",
            "[CV 3/3] END ......C=10, gamma=0.01, kernel=rbf;, score=0.605 total time=10.7min\n",
            "SVC(C=1, gamma=0.01)\n",
            "Accuracy Score:  0.6316330023964396\n",
            "Precision Score:  0.6535175277489419\n",
            "Recall Score:  0.5603560424512153\n",
            "F1 Score:  0.6033618401651429\n"
          ]
        }
      ],
      "source": [
        "svm_grid = {'C': [0.1, 1, 10],\n",
        "              'gamma': [1, 0.1, 0.01],\n",
        "              'kernel': ['rbf']}\n",
        " \n",
        "svm_grid = GridSearchCV(svm.SVC(), svm_grid, refit = True, verbose = 3, cv=3)\n",
        "svm_grid.fit(X_train, y_train)\n",
        "svm_best = svm_grid.best_estimator_\n",
        "print(svm_grid.best_estimator_)\n",
        "evaluate_model(svm_best)"
      ],
      "id": "aJKenpbroHBb"
    },
    {
      "cell_type": "code",
      "source": [
        "metrics = ['euclidean','manhattan'] \n",
        "neighbors = np.arange(1, 30)\n",
        "knn_grid  = dict(metric=metrics, n_neighbors=neighbors)\n",
        "knn = KNeighborsClassifier()\n",
        "knn_search = GridSearchCV(knn, knn_grid, cv=3, scoring='accuracy', refit=True)\n",
        "knn_search.fit(X_train, y_train)\n",
        "knn_search_best = knn_search.best_estimator_\n",
        "print(knn_search.best_estimator_)\n",
        "evaluate_model(knn_search_best)"
      ],
      "metadata": {
        "colab": {
          "base_uri": "https://localhost:8080/"
        },
        "id": "iNxJFPqA1-KY",
        "outputId": "c9845c0a-ac2c-43bc-b572-d1387ba4f47c"
      },
      "id": "iNxJFPqA1-KY",
      "execution_count": 27,
      "outputs": [
        {
          "output_type": "stream",
          "name": "stdout",
          "text": [
            "KNeighborsClassifier(metric='manhattan', n_neighbors=29)\n",
            "Accuracy Score:  0.6708661417322834\n",
            "Precision Score:  0.6465785609397944\n",
            "Recall Score:  0.7537144813420061\n",
            "F1 Score:  0.6960480556433765\n"
          ]
        }
      ]
    },
    {
      "cell_type": "code",
      "execution_count": 28,
      "metadata": {
        "colab": {
          "base_uri": "https://localhost:8080/"
        },
        "id": "kxECf8MumvUH",
        "outputId": "3c3ed270-10a0-4028-f0c5-efb6425d43c1"
      },
      "outputs": [
        {
          "output_type": "stream",
          "name": "stdout",
          "text": [
            "Fitting 3 folds for each of 100 candidates, totalling 300 fits\n",
            "GaussianNB(var_smoothing=0.0002310129700083158)\n",
            "Accuracy Score:  0.7542622389592605\n",
            "Precision Score:  0.7061795569374272\n",
            "Recall Score:  0.8708661417322835\n",
            "F1 Score:  0.7799239636987982\n"
          ]
        }
      ],
      "source": [
        "nb_grid = {\n",
        "    'var_smoothing': np.logspace(0,-9, num=100)\n",
        "}\n",
        "nb_search = GridSearchCV(estimator=GaussianNB(), param_grid=nb_grid, verbose=1, cv=3, n_jobs=-1)\n",
        "nb_search.fit(X_train, y_train)\n",
        "nb_best = nb_search.best_estimator_\n",
        "print(nb_search.best_estimator_)\n",
        "evaluate_model(nb_best)"
      ],
      "id": "kxECf8MumvUH"
    },
    {
      "cell_type": "code",
      "execution_count": 29,
      "metadata": {
        "colab": {
          "base_uri": "https://localhost:8080/"
        },
        "id": "b-1hbSqd78fr",
        "outputId": "864c800e-c4b5-40db-92de-b005229f4605"
      },
      "outputs": [
        {
          "output_type": "stream",
          "name": "stdout",
          "text": [
            "Fitting 3 folds for each of 100 candidates, totalling 300 fits\n"
          ]
        },
        {
          "output_type": "stream",
          "name": "stderr",
          "text": [
            "/usr/local/lib/python3.7/dist-packages/joblib/externals/loky/process_executor.py:705: UserWarning: A worker stopped while some jobs were given to the executor. This can be caused by a too short worker timeout or by a memory leak.\n",
            "  \"timeout or by a memory leak.\", UserWarning\n"
          ]
        },
        {
          "output_type": "stream",
          "name": "stdout",
          "text": [
            "RandomForestClassifier(max_depth=20, max_features='sqrt', min_samples_leaf=2,\n",
            "                       min_samples_split=5, n_estimators=1000)\n",
            "Accuracy Score:  0.7590893529613146\n",
            "Precision Score:  0.703989218328841\n",
            "Recall Score:  0.894145840465594\n",
            "F1 Score:  0.7877544865027899\n"
          ]
        }
      ],
      "source": [
        "n_estimators = [int(x) for x in np.linspace(start = 200, stop = 2000, num = 10)]\n",
        "max_features = ['auto', 'sqrt']\n",
        "max_depth = [int(x) for x in np.linspace(10, 110, num = 11)]\n",
        "max_depth.append(None)\n",
        "min_samples_split = [2, 5, 10]\n",
        "min_samples_leaf = [1, 2, 4]\n",
        "bootstrap = [True, False]\n",
        "rf_grid = {'n_estimators': n_estimators,\n",
        "               'max_features': max_features,\n",
        "               'max_depth': max_depth,\n",
        "               'min_samples_split': min_samples_split,\n",
        "               'min_samples_leaf': min_samples_leaf,\n",
        "               'bootstrap': bootstrap}\n",
        "rf = RandomForestClassifier()\n",
        "rf_random = RandomizedSearchCV(estimator = rf, param_distributions = rf_grid, n_iter = 100, cv = 3, verbose=2, random_state=42, n_jobs = -1)\n",
        "rf_random.fit(X_train, y_train)\n",
        "rf_best = rf_random.best_estimator_\n",
        "print(rf_random.best_estimator_)\n",
        "evaluate_model(rf_best)"
      ],
      "id": "b-1hbSqd78fr"
    },
    {
      "cell_type": "code",
      "execution_count": 30,
      "metadata": {
        "colab": {
          "base_uri": "https://localhost:8080/"
        },
        "id": "q5A_kka_RJjU",
        "outputId": "3bd1eaba-3446-45f6-cdca-762a11fbd96e"
      },
      "outputs": [
        {
          "output_type": "stream",
          "name": "stdout",
          "text": [
            "Fitting 4 folds for each of 50 candidates, totalling 200 fits\n",
            "DecisionTreeClassifier(max_depth=5, min_samples_leaf=100, random_state=42)\n",
            "Accuracy Score:  0.7619308456008216\n",
            "Precision Score:  0.7121859226801265\n",
            "Recall Score:  0.8791509756932557\n",
            "F1 Score:  0.7869093583379297\n"
          ]
        }
      ],
      "source": [
        "dt = DecisionTreeClassifier(random_state=42)\n",
        "dt_params = {\n",
        "    'max_depth': [2, 3, 5, 10, 20],\n",
        "    'min_samples_leaf': [5, 10, 20, 50, 100],\n",
        "    'criterion': [\"gini\", \"entropy\"]\n",
        "}\n",
        "\n",
        "dt_search = GridSearchCV(estimator=dt, \n",
        "                           param_grid=dt_params, \n",
        "                           cv=4, n_jobs=-1, verbose=1, scoring = \"accuracy\")\n",
        "dt_search.fit(X_train, y_train)\n",
        "print(dt_search.best_estimator_)\n",
        "dt_best = dt_search.best_estimator_\n",
        "evaluate_model(dt_best)"
      ],
      "id": "q5A_kka_RJjU"
    },
    {
      "cell_type": "code",
      "source": [
        "xgb_grid = {\n",
        "    'n_estimators': [100, 500, 900, 1100, 1500],\n",
        "    'max_depth': [2, 3, 5, 10, 15],\n",
        "    'learning_rate': [0.05, 0.1, 0.15, 0.20],\n",
        "    'min_child_weight': [1, 2, 3, 4]\n",
        "    }\n",
        "\n",
        "xgb = XGBClassifier()\n",
        "xgb_random = RandomizedSearchCV(estimator = xgb, param_distributions = xgb_grid, n_iter = 100, cv = 3, verbose=2, random_state=42, n_jobs = -1)\n",
        "xgb_random.fit(X_train, y_train)\n",
        "xgb_best = xgb_random.best_estimator_\n",
        "print(xgb_random.best_estimator_)\n",
        "evaluate_model(xgb_best)"
      ],
      "metadata": {
        "colab": {
          "base_uri": "https://localhost:8080/"
        },
        "id": "e8QLZZ1Z7C_p",
        "outputId": "78ce6342-1fed-4e56-98b4-b0ed8c51df91"
      },
      "id": "e8QLZZ1Z7C_p",
      "execution_count": 8,
      "outputs": [
        {
          "output_type": "stream",
          "name": "stdout",
          "text": [
            "Fitting 3 folds for each of 100 candidates, totalling 300 fits\n",
            "XGBClassifier(learning_rate=0.05, min_child_weight=3)\n",
            "Accuracy Score:  0.7620335501540568\n",
            "Precision Score:  0.7109702315325248\n",
            "Recall Score:  0.8830537487161931\n",
            "F1 Score:  0.7877233165368759\n"
          ]
        }
      ]
    },
    {
      "cell_type": "code",
      "source": [
        "params_sgd = {\n",
        "    \"loss\" : [\"hinge\", \"log\", \"squared_hinge\", \"modified_huber\", \"perceptron\"],\n",
        "    \"alpha\" : [0.0001, 0.001, 0.01, 0.1],\n",
        "    \"penalty\" : [\"l2\", \"l1\", \"elasticnet\", \"none\"],\n",
        "}\n",
        "sgd = SGDClassifier(max_iter=1000)\n",
        "sgd_search = GridSearchCV(sgd, param_grid=params_sgd, cv=3)\n",
        "sgd_search.fit(X_train, y_train)\n",
        "print(sgd_search.best_params_) \n",
        "sgd_best = sgd_search.best_estimator_\n",
        "evaluate_model(sgd_best)"
      ],
      "metadata": {
        "colab": {
          "base_uri": "https://localhost:8080/"
        },
        "id": "RGyVvpuMs1sX",
        "outputId": "f0caa9e5-c8e7-44d7-ba4f-c95600b7ecf3"
      },
      "id": "RGyVvpuMs1sX",
      "execution_count": 9,
      "outputs": [
        {
          "output_type": "stream",
          "name": "stderr",
          "text": [
            "/usr/local/lib/python3.7/dist-packages/sklearn/linear_model/_stochastic_gradient.py:700: ConvergenceWarning: Maximum number of iteration reached before convergence. Consider increasing max_iter to improve the fit.\n",
            "  ConvergenceWarning,\n",
            "/usr/local/lib/python3.7/dist-packages/sklearn/linear_model/_stochastic_gradient.py:700: ConvergenceWarning: Maximum number of iteration reached before convergence. Consider increasing max_iter to improve the fit.\n",
            "  ConvergenceWarning,\n",
            "/usr/local/lib/python3.7/dist-packages/sklearn/linear_model/_stochastic_gradient.py:700: ConvergenceWarning: Maximum number of iteration reached before convergence. Consider increasing max_iter to improve the fit.\n",
            "  ConvergenceWarning,\n",
            "/usr/local/lib/python3.7/dist-packages/sklearn/linear_model/_stochastic_gradient.py:700: ConvergenceWarning: Maximum number of iteration reached before convergence. Consider increasing max_iter to improve the fit.\n",
            "  ConvergenceWarning,\n",
            "/usr/local/lib/python3.7/dist-packages/sklearn/linear_model/_stochastic_gradient.py:700: ConvergenceWarning: Maximum number of iteration reached before convergence. Consider increasing max_iter to improve the fit.\n",
            "  ConvergenceWarning,\n",
            "/usr/local/lib/python3.7/dist-packages/sklearn/linear_model/_stochastic_gradient.py:700: ConvergenceWarning: Maximum number of iteration reached before convergence. Consider increasing max_iter to improve the fit.\n",
            "  ConvergenceWarning,\n",
            "/usr/local/lib/python3.7/dist-packages/sklearn/linear_model/_stochastic_gradient.py:700: ConvergenceWarning: Maximum number of iteration reached before convergence. Consider increasing max_iter to improve the fit.\n",
            "  ConvergenceWarning,\n",
            "/usr/local/lib/python3.7/dist-packages/sklearn/linear_model/_stochastic_gradient.py:700: ConvergenceWarning: Maximum number of iteration reached before convergence. Consider increasing max_iter to improve the fit.\n",
            "  ConvergenceWarning,\n",
            "/usr/local/lib/python3.7/dist-packages/sklearn/linear_model/_stochastic_gradient.py:700: ConvergenceWarning: Maximum number of iteration reached before convergence. Consider increasing max_iter to improve the fit.\n",
            "  ConvergenceWarning,\n",
            "/usr/local/lib/python3.7/dist-packages/sklearn/linear_model/_stochastic_gradient.py:700: ConvergenceWarning: Maximum number of iteration reached before convergence. Consider increasing max_iter to improve the fit.\n",
            "  ConvergenceWarning,\n",
            "/usr/local/lib/python3.7/dist-packages/sklearn/linear_model/_stochastic_gradient.py:700: ConvergenceWarning: Maximum number of iteration reached before convergence. Consider increasing max_iter to improve the fit.\n",
            "  ConvergenceWarning,\n",
            "/usr/local/lib/python3.7/dist-packages/sklearn/linear_model/_stochastic_gradient.py:700: ConvergenceWarning: Maximum number of iteration reached before convergence. Consider increasing max_iter to improve the fit.\n",
            "  ConvergenceWarning,\n",
            "/usr/local/lib/python3.7/dist-packages/sklearn/linear_model/_stochastic_gradient.py:700: ConvergenceWarning: Maximum number of iteration reached before convergence. Consider increasing max_iter to improve the fit.\n",
            "  ConvergenceWarning,\n",
            "/usr/local/lib/python3.7/dist-packages/sklearn/linear_model/_stochastic_gradient.py:700: ConvergenceWarning: Maximum number of iteration reached before convergence. Consider increasing max_iter to improve the fit.\n",
            "  ConvergenceWarning,\n",
            "/usr/local/lib/python3.7/dist-packages/sklearn/linear_model/_stochastic_gradient.py:700: ConvergenceWarning: Maximum number of iteration reached before convergence. Consider increasing max_iter to improve the fit.\n",
            "  ConvergenceWarning,\n",
            "/usr/local/lib/python3.7/dist-packages/sklearn/linear_model/_stochastic_gradient.py:700: ConvergenceWarning: Maximum number of iteration reached before convergence. Consider increasing max_iter to improve the fit.\n",
            "  ConvergenceWarning,\n",
            "/usr/local/lib/python3.7/dist-packages/sklearn/linear_model/_stochastic_gradient.py:700: ConvergenceWarning: Maximum number of iteration reached before convergence. Consider increasing max_iter to improve the fit.\n",
            "  ConvergenceWarning,\n",
            "/usr/local/lib/python3.7/dist-packages/sklearn/linear_model/_stochastic_gradient.py:700: ConvergenceWarning: Maximum number of iteration reached before convergence. Consider increasing max_iter to improve the fit.\n",
            "  ConvergenceWarning,\n",
            "/usr/local/lib/python3.7/dist-packages/sklearn/linear_model/_stochastic_gradient.py:700: ConvergenceWarning: Maximum number of iteration reached before convergence. Consider increasing max_iter to improve the fit.\n",
            "  ConvergenceWarning,\n",
            "/usr/local/lib/python3.7/dist-packages/sklearn/linear_model/_stochastic_gradient.py:700: ConvergenceWarning: Maximum number of iteration reached before convergence. Consider increasing max_iter to improve the fit.\n",
            "  ConvergenceWarning,\n",
            "/usr/local/lib/python3.7/dist-packages/sklearn/linear_model/_stochastic_gradient.py:700: ConvergenceWarning: Maximum number of iteration reached before convergence. Consider increasing max_iter to improve the fit.\n",
            "  ConvergenceWarning,\n",
            "/usr/local/lib/python3.7/dist-packages/sklearn/linear_model/_stochastic_gradient.py:700: ConvergenceWarning: Maximum number of iteration reached before convergence. Consider increasing max_iter to improve the fit.\n",
            "  ConvergenceWarning,\n",
            "/usr/local/lib/python3.7/dist-packages/sklearn/linear_model/_stochastic_gradient.py:700: ConvergenceWarning: Maximum number of iteration reached before convergence. Consider increasing max_iter to improve the fit.\n",
            "  ConvergenceWarning,\n",
            "/usr/local/lib/python3.7/dist-packages/sklearn/linear_model/_stochastic_gradient.py:700: ConvergenceWarning: Maximum number of iteration reached before convergence. Consider increasing max_iter to improve the fit.\n",
            "  ConvergenceWarning,\n",
            "/usr/local/lib/python3.7/dist-packages/sklearn/linear_model/_stochastic_gradient.py:700: ConvergenceWarning: Maximum number of iteration reached before convergence. Consider increasing max_iter to improve the fit.\n",
            "  ConvergenceWarning,\n",
            "/usr/local/lib/python3.7/dist-packages/sklearn/linear_model/_stochastic_gradient.py:700: ConvergenceWarning: Maximum number of iteration reached before convergence. Consider increasing max_iter to improve the fit.\n",
            "  ConvergenceWarning,\n",
            "/usr/local/lib/python3.7/dist-packages/sklearn/linear_model/_stochastic_gradient.py:700: ConvergenceWarning: Maximum number of iteration reached before convergence. Consider increasing max_iter to improve the fit.\n",
            "  ConvergenceWarning,\n",
            "/usr/local/lib/python3.7/dist-packages/sklearn/linear_model/_stochastic_gradient.py:700: ConvergenceWarning: Maximum number of iteration reached before convergence. Consider increasing max_iter to improve the fit.\n",
            "  ConvergenceWarning,\n",
            "/usr/local/lib/python3.7/dist-packages/sklearn/linear_model/_stochastic_gradient.py:700: ConvergenceWarning: Maximum number of iteration reached before convergence. Consider increasing max_iter to improve the fit.\n",
            "  ConvergenceWarning,\n",
            "/usr/local/lib/python3.7/dist-packages/sklearn/linear_model/_stochastic_gradient.py:700: ConvergenceWarning: Maximum number of iteration reached before convergence. Consider increasing max_iter to improve the fit.\n",
            "  ConvergenceWarning,\n",
            "/usr/local/lib/python3.7/dist-packages/sklearn/linear_model/_stochastic_gradient.py:700: ConvergenceWarning: Maximum number of iteration reached before convergence. Consider increasing max_iter to improve the fit.\n",
            "  ConvergenceWarning,\n",
            "/usr/local/lib/python3.7/dist-packages/sklearn/linear_model/_stochastic_gradient.py:700: ConvergenceWarning: Maximum number of iteration reached before convergence. Consider increasing max_iter to improve the fit.\n",
            "  ConvergenceWarning,\n",
            "/usr/local/lib/python3.7/dist-packages/sklearn/linear_model/_stochastic_gradient.py:700: ConvergenceWarning: Maximum number of iteration reached before convergence. Consider increasing max_iter to improve the fit.\n",
            "  ConvergenceWarning,\n",
            "/usr/local/lib/python3.7/dist-packages/sklearn/linear_model/_stochastic_gradient.py:700: ConvergenceWarning: Maximum number of iteration reached before convergence. Consider increasing max_iter to improve the fit.\n",
            "  ConvergenceWarning,\n",
            "/usr/local/lib/python3.7/dist-packages/sklearn/linear_model/_stochastic_gradient.py:700: ConvergenceWarning: Maximum number of iteration reached before convergence. Consider increasing max_iter to improve the fit.\n",
            "  ConvergenceWarning,\n",
            "/usr/local/lib/python3.7/dist-packages/sklearn/linear_model/_stochastic_gradient.py:700: ConvergenceWarning: Maximum number of iteration reached before convergence. Consider increasing max_iter to improve the fit.\n",
            "  ConvergenceWarning,\n",
            "/usr/local/lib/python3.7/dist-packages/sklearn/linear_model/_stochastic_gradient.py:700: ConvergenceWarning: Maximum number of iteration reached before convergence. Consider increasing max_iter to improve the fit.\n",
            "  ConvergenceWarning,\n",
            "/usr/local/lib/python3.7/dist-packages/sklearn/linear_model/_stochastic_gradient.py:700: ConvergenceWarning: Maximum number of iteration reached before convergence. Consider increasing max_iter to improve the fit.\n",
            "  ConvergenceWarning,\n",
            "/usr/local/lib/python3.7/dist-packages/sklearn/linear_model/_stochastic_gradient.py:700: ConvergenceWarning: Maximum number of iteration reached before convergence. Consider increasing max_iter to improve the fit.\n",
            "  ConvergenceWarning,\n",
            "/usr/local/lib/python3.7/dist-packages/sklearn/linear_model/_stochastic_gradient.py:700: ConvergenceWarning: Maximum number of iteration reached before convergence. Consider increasing max_iter to improve the fit.\n",
            "  ConvergenceWarning,\n",
            "/usr/local/lib/python3.7/dist-packages/sklearn/linear_model/_stochastic_gradient.py:700: ConvergenceWarning: Maximum number of iteration reached before convergence. Consider increasing max_iter to improve the fit.\n",
            "  ConvergenceWarning,\n",
            "/usr/local/lib/python3.7/dist-packages/sklearn/linear_model/_stochastic_gradient.py:700: ConvergenceWarning: Maximum number of iteration reached before convergence. Consider increasing max_iter to improve the fit.\n",
            "  ConvergenceWarning,\n",
            "/usr/local/lib/python3.7/dist-packages/sklearn/linear_model/_stochastic_gradient.py:700: ConvergenceWarning: Maximum number of iteration reached before convergence. Consider increasing max_iter to improve the fit.\n",
            "  ConvergenceWarning,\n",
            "/usr/local/lib/python3.7/dist-packages/sklearn/linear_model/_stochastic_gradient.py:700: ConvergenceWarning: Maximum number of iteration reached before convergence. Consider increasing max_iter to improve the fit.\n",
            "  ConvergenceWarning,\n",
            "/usr/local/lib/python3.7/dist-packages/sklearn/linear_model/_stochastic_gradient.py:700: ConvergenceWarning: Maximum number of iteration reached before convergence. Consider increasing max_iter to improve the fit.\n",
            "  ConvergenceWarning,\n",
            "/usr/local/lib/python3.7/dist-packages/sklearn/linear_model/_stochastic_gradient.py:700: ConvergenceWarning: Maximum number of iteration reached before convergence. Consider increasing max_iter to improve the fit.\n",
            "  ConvergenceWarning,\n",
            "/usr/local/lib/python3.7/dist-packages/sklearn/linear_model/_stochastic_gradient.py:700: ConvergenceWarning: Maximum number of iteration reached before convergence. Consider increasing max_iter to improve the fit.\n",
            "  ConvergenceWarning,\n",
            "/usr/local/lib/python3.7/dist-packages/sklearn/linear_model/_stochastic_gradient.py:700: ConvergenceWarning: Maximum number of iteration reached before convergence. Consider increasing max_iter to improve the fit.\n",
            "  ConvergenceWarning,\n",
            "/usr/local/lib/python3.7/dist-packages/sklearn/linear_model/_stochastic_gradient.py:700: ConvergenceWarning: Maximum number of iteration reached before convergence. Consider increasing max_iter to improve the fit.\n",
            "  ConvergenceWarning,\n",
            "/usr/local/lib/python3.7/dist-packages/sklearn/linear_model/_stochastic_gradient.py:700: ConvergenceWarning: Maximum number of iteration reached before convergence. Consider increasing max_iter to improve the fit.\n",
            "  ConvergenceWarning,\n",
            "/usr/local/lib/python3.7/dist-packages/sklearn/linear_model/_stochastic_gradient.py:700: ConvergenceWarning: Maximum number of iteration reached before convergence. Consider increasing max_iter to improve the fit.\n",
            "  ConvergenceWarning,\n",
            "/usr/local/lib/python3.7/dist-packages/sklearn/linear_model/_stochastic_gradient.py:700: ConvergenceWarning: Maximum number of iteration reached before convergence. Consider increasing max_iter to improve the fit.\n",
            "  ConvergenceWarning,\n",
            "/usr/local/lib/python3.7/dist-packages/sklearn/linear_model/_stochastic_gradient.py:700: ConvergenceWarning: Maximum number of iteration reached before convergence. Consider increasing max_iter to improve the fit.\n",
            "  ConvergenceWarning,\n"
          ]
        },
        {
          "output_type": "stream",
          "name": "stdout",
          "text": [
            "{'alpha': 0.1, 'loss': 'log', 'penalty': 'elasticnet'}\n",
            "Accuracy Score:  0.7487846627867168\n",
            "Precision Score:  0.7373440459860213\n",
            "Recall Score:  0.772885997945909\n",
            "F1 Score:  0.754696797486127\n"
          ]
        }
      ]
    }
  ],
  "metadata": {
    "colab": {
      "name": "DV_Project_Spring2022_SukyungSeo(ss13969).ipynb",
      "provenance": [],
      "collapsed_sections": []
    },
    "kernelspec": {
      "display_name": "Python 3",
      "language": "python",
      "name": "python3"
    },
    "language_info": {
      "codemirror_mode": {
        "name": "ipython",
        "version": 3
      },
      "file_extension": ".py",
      "mimetype": "text/x-python",
      "name": "python",
      "nbconvert_exporter": "python",
      "pygments_lexer": "ipython3",
      "version": "3.8.10"
    }
  },
  "nbformat": 4,
  "nbformat_minor": 5
}