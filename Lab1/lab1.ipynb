{
 "cells": [
  {
   "cell_type": "markdown",
   "id": "76d2a790",
   "metadata": {},
   "source": [
    "Sukyung Seo (ss13969)-Lab1"
   ]
  },
  {
   "cell_type": "markdown",
   "id": "82724bac",
   "metadata": {},
   "source": [
    "Problem 1"
   ]
  },
  {
   "cell_type": "code",
   "execution_count": 38,
   "id": "0f25b66f",
   "metadata": {},
   "outputs": [],
   "source": [
    "#import libraries for this lab \n",
    "import pandas as pd \n",
    "import statistics"
   ]
  },
  {
   "cell_type": "code",
   "execution_count": 39,
   "id": "12c30307",
   "metadata": {},
   "outputs": [
    {
     "data": {
      "text/html": [
       "<div>\n",
       "<style scoped>\n",
       "    .dataframe tbody tr th:only-of-type {\n",
       "        vertical-align: middle;\n",
       "    }\n",
       "\n",
       "    .dataframe tbody tr th {\n",
       "        vertical-align: top;\n",
       "    }\n",
       "\n",
       "    .dataframe thead th {\n",
       "        text-align: right;\n",
       "    }\n",
       "</style>\n",
       "<table border=\"1\" class=\"dataframe\">\n",
       "  <thead>\n",
       "    <tr style=\"text-align: right;\">\n",
       "      <th></th>\n",
       "      <th>Unnamed: 0</th>\n",
       "      <th>Treatment</th>\n",
       "      <th>HemoglobinA1C.Baseline</th>\n",
       "      <th>HemoglobinA1C.Followup</th>\n",
       "      <th>Female</th>\n",
       "      <th>Age</th>\n",
       "      <th>SBP</th>\n",
       "      <th>BMI</th>\n",
       "    </tr>\n",
       "  </thead>\n",
       "  <tbody>\n",
       "    <tr>\n",
       "      <th>0</th>\n",
       "      <td>1</td>\n",
       "      <td>False</td>\n",
       "      <td>4.9</td>\n",
       "      <td>7.1</td>\n",
       "      <td>False</td>\n",
       "      <td>43</td>\n",
       "      <td>123</td>\n",
       "      <td>25.43</td>\n",
       "    </tr>\n",
       "    <tr>\n",
       "      <th>1</th>\n",
       "      <td>2</td>\n",
       "      <td>True</td>\n",
       "      <td>5.1</td>\n",
       "      <td>5.4</td>\n",
       "      <td>False</td>\n",
       "      <td>47</td>\n",
       "      <td>128</td>\n",
       "      <td>26.28</td>\n",
       "    </tr>\n",
       "    <tr>\n",
       "      <th>2</th>\n",
       "      <td>3</td>\n",
       "      <td>True</td>\n",
       "      <td>5.1</td>\n",
       "      <td>4.3</td>\n",
       "      <td>True</td>\n",
       "      <td>55</td>\n",
       "      <td>120</td>\n",
       "      <td>28.21</td>\n",
       "    </tr>\n",
       "    <tr>\n",
       "      <th>3</th>\n",
       "      <td>4</td>\n",
       "      <td>True</td>\n",
       "      <td>5.2</td>\n",
       "      <td>5.1</td>\n",
       "      <td>True</td>\n",
       "      <td>54</td>\n",
       "      <td>132</td>\n",
       "      <td>25.98</td>\n",
       "    </tr>\n",
       "    <tr>\n",
       "      <th>4</th>\n",
       "      <td>5</td>\n",
       "      <td>True</td>\n",
       "      <td>5.2</td>\n",
       "      <td>7.1</td>\n",
       "      <td>True</td>\n",
       "      <td>40</td>\n",
       "      <td>111</td>\n",
       "      <td>26.22</td>\n",
       "    </tr>\n",
       "  </tbody>\n",
       "</table>\n",
       "</div>"
      ],
      "text/plain": [
       "   Unnamed: 0  Treatment  HemoglobinA1C.Baseline  HemoglobinA1C.Followup  \\\n",
       "0           1      False                     4.9                     7.1   \n",
       "1           2       True                     5.1                     5.4   \n",
       "2           3       True                     5.1                     4.3   \n",
       "3           4       True                     5.2                     5.1   \n",
       "4           5       True                     5.2                     7.1   \n",
       "\n",
       "   Female  Age  SBP    BMI  \n",
       "0   False   43  123  25.43  \n",
       "1   False   47  128  26.28  \n",
       "2    True   55  120  28.21  \n",
       "3    True   54  132  25.98  \n",
       "4    True   40  111  26.22  "
      ]
     },
     "execution_count": 39,
     "metadata": {},
     "output_type": "execute_result"
    }
   ],
   "source": [
    "# Read CSV file and see the part of table \n",
    "data = pd.read_csv(\"diabetes.csv\")\n",
    "data.head()"
   ]
  },
  {
   "cell_type": "code",
   "execution_count": null,
   "id": "0f9db5b3",
   "metadata": {},
   "outputs": [],
   "source": [
    "#Group1 - underweight \n",
    "undergrop = data[data['BMI']<18.5]\n",
    "#show the mean of the BMI of underweight men\n",
    "statistics.mean(undergrop['BMI'])\n",
    "#show the median of the BMI of underweight men\n",
    "statistics.median(undergrop['BMI'])\n",
    "#show the standard deviation of the BMI of underweight men\n",
    "statistics.stdev(undergrop['BMI'])\n",
    "\n",
    "#There is no patient who has under 18.5 bmi"
   ]
  },
  {
   "cell_type": "code",
   "execution_count": 41,
   "id": "38408f5c",
   "metadata": {},
   "outputs": [
    {
     "name": "stdout",
     "output_type": "stream",
     "text": [
      "23.8375\n",
      "23.740000000000002\n",
      "0.989490609691\n"
     ]
    }
   ],
   "source": [
    "#Group2 - healthy weight\n",
    "healthygrop = data[(data['BMI']>=18.5)&(data['BMI']<25)]\n",
    "\n",
    "#show the mean of the BMI of healthyweight men\n",
    "print(statistics.mean(healthygrop['BMI']))\n",
    "#show the median of the BMI of healthyweight men\n",
    "print(statistics.median(healthygrop['BMI']))\n",
    "#show the standard deviation of the BMI of healthyweight men\n",
    "print(statistics.stdev(healthygrop['BMI']))\n",
    "\n",
    "# healthy weight group : mean (23.8375), median (23.74), sd (0.9894)"
   ]
  },
  {
   "cell_type": "code",
   "execution_count": 24,
   "id": "76a628ee",
   "metadata": {},
   "outputs": [
    {
     "name": "stdout",
     "output_type": "stream",
     "text": [
      "28.49956834532374\n",
      "28.79\n",
      "1.1578321012318211\n"
     ]
    }
   ],
   "source": [
    "#Group3 - overweight\n",
    "overgrop = data[(data['BMI']>=25)&(data['BMI']<30)]\n",
    "\n",
    "#show the mean of the BMI of overweight men\n",
    "print(statistics.mean(overgrop['BMI']))\n",
    "#show the median of the BMI of overweight men\n",
    "print(statistics.median(overgrop['BMI']))\n",
    "#show the standard deviation of the BMI of overweight men\n",
    "print(statistics.stdev(overgrop['BMI']))\n",
    "\n",
    "# over weight group : mean (28.49957), median (28.79), sd (1.15)"
   ]
  },
  {
   "cell_type": "code",
   "execution_count": 27,
   "id": "f420a6bf",
   "metadata": {},
   "outputs": [
    {
     "name": "stdout",
     "output_type": "stream",
     "text": [
      "33.29737400530504\n",
      "33.05\n",
      "2.2030562066460373\n"
     ]
    }
   ],
   "source": [
    "#Group4 - obesity\n",
    "obesitygrop = data[data['BMI']>30]\n",
    "#show the mean of the BMI of obesityweight men\n",
    "print(statistics.mean(obesitygrop['BMI']))\n",
    "#show the median of the BMI of obesityweight men\n",
    "print(statistics.median(obesitygrop['BMI']))\n",
    "#show the standard deviation of the BMI of obesityweight men\n",
    "print(statistics.stdev(obesitygrop['BMI']))\n",
    "\n",
    "#obesity weight group : : mean (33.29737), median (33.05), sd (2.203056)"
   ]
  },
  {
   "cell_type": "markdown",
   "id": "ca29457b",
   "metadata": {},
   "source": [
    "Problem 2"
   ]
  },
  {
   "cell_type": "code",
   "execution_count": 29,
   "id": "1f4fdb06",
   "metadata": {},
   "outputs": [
    {
     "name": "stdout",
     "output_type": "stream",
     "text": [
      "4.888888888888889\n",
      "5.1\n",
      "0.7561122868313539\n"
     ]
    }
   ],
   "source": [
    "#Group1 - Normal \n",
    "Normalgrop = data[data['HemoglobinA1C.Followup']<=5.7]\n",
    "\n",
    "#show the mean of the HemoglobinA1C.Followup of Normal \n",
    "print(statistics.mean(Normalgrop['HemoglobinA1C.Followup']))\n",
    "#show the median of the HemoglobinA1C.Followup of Normal\n",
    "print(statistics.median(Normalgrop['HemoglobinA1C.Followup']))\n",
    "#show the standard deviation of the HemoglobinA1C.Followup of Normal\n",
    "print(statistics.stdev(Normalgrop['HemoglobinA1C.Followup']))\n",
    "\n",
    "# Normal group : mean (4.8888), median (5.1), sd (0.756112)"
   ]
  },
  {
   "cell_type": "code",
   "execution_count": 35,
   "id": "316e38ea",
   "metadata": {},
   "outputs": [
    {
     "name": "stdout",
     "output_type": "stream",
     "text": [
      "6.030952380952381\n",
      "6.0\n",
      "0.1981476355700408\n"
     ]
    }
   ],
   "source": [
    "#Group2 - prediabete weight\n",
    "prediabetegrop = data[(data['HemoglobinA1C.Followup']>5.7)&(data['HemoglobinA1C.Followup']<=6.4)]\n",
    "\n",
    "#show the mean of the HemoglobinA1C.Followup of prediabete\n",
    "print(statistics.mean(prediabetegrop['HemoglobinA1C.Followup']))\n",
    "#show the median of the HemoglobinA1C.Followup of prediabete\n",
    "print(statistics.median(prediabetegrop['HemoglobinA1C.Followup']))\n",
    "#show the standard deviation of the HemoglobinA1C.Followup of prediabete\n",
    "print(statistics.stdev(prediabetegrop['HemoglobinA1C.Followup']))\n",
    "\n",
    "# prediabete group : mean (6.030952) median(6), sd (0.1981476)"
   ]
  },
  {
   "cell_type": "code",
   "execution_count": 37,
   "id": "6db838ac",
   "metadata": {},
   "outputs": [
    {
     "name": "stdout",
     "output_type": "stream",
     "text": [
      "9.061576354679802\n",
      "8.7\n",
      "1.8338791047118612\n"
     ]
    }
   ],
   "source": [
    "#Group3 - diabeteweight\n",
    "diabetegrop = data[data['HemoglobinA1C.Followup']>=6.5]\n",
    "\n",
    "#show the mean of the HemoglobinA1C.Followup of diabeteweight men\n",
    "print(statistics.mean(diabetegrop['HemoglobinA1C.Followup']))\n",
    "#show the median of the HemoglobinA1C.Followup of diabeteweight men\n",
    "print(statistics.median(diabetegrop['HemoglobinA1C.Followup']))\n",
    "#show the standard deviation of the HemoglobinA1C.Followup of diabeteweight men\n",
    "print(statistics.stdev(diabetegrop['HemoglobinA1C.Followup']))\n",
    "\n",
    "# diabete group : mean (9.061576), median (8.7), sd (1.833879)"
   ]
  }
 ],
 "metadata": {
  "kernelspec": {
   "display_name": "Python 3",
   "language": "python",
   "name": "python3"
  },
  "language_info": {
   "codemirror_mode": {
    "name": "ipython",
    "version": 3
   },
   "file_extension": ".py",
   "mimetype": "text/x-python",
   "name": "python",
   "nbconvert_exporter": "python",
   "pygments_lexer": "ipython3",
   "version": "3.8.10"
  }
 },
 "nbformat": 4,
 "nbformat_minor": 5
}
